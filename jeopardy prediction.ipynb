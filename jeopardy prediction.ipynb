{
 "cells": [
  {
   "cell_type": "code",
   "execution_count": 1,
   "metadata": {
    "_cell_guid": "b1076dfc-b9ad-4769-8c92-a6c4dae69d19",
    "_uuid": "8f2839f25d086af736a60e9eeb907d3b93b6e0e5",
    "execution": {
     "iopub.execute_input": "2021-03-08T10:03:51.211740Z",
     "iopub.status.busy": "2021-03-08T10:03:51.210968Z",
     "iopub.status.idle": "2021-03-08T10:03:51.223488Z",
     "shell.execute_reply": "2021-03-08T10:03:51.222717Z"
    },
    "papermill": {
     "duration": 0.041936,
     "end_time": "2021-03-08T10:03:51.223722",
     "exception": false,
     "start_time": "2021-03-08T10:03:51.181786",
     "status": "completed"
    },
    "tags": []
   },
   "outputs": [
    {
     "name": "stdout",
     "output_type": "stream",
     "text": [
      "/kaggle/input/200000-jeopardy-questions/JEOPARDY_CSV.csv\n"
     ]
    }
   ],
   "source": [
    "\n",
    "\n",
    "import numpy as np \n",
    "import pandas as pd \n",
    "\n",
    "\n",
    "import os\n",
    "for dirname, _, filenames in os.walk('/kaggle/input'):\n",
    "    for filename in filenames:\n",
    "        print(os.path.join(dirname, filename))\n",
    "\n"
   ]
  },
  {
   "cell_type": "code",
   "execution_count": 2,
   "metadata": {
    "execution": {
     "iopub.execute_input": "2021-03-08T10:03:51.271432Z",
     "iopub.status.busy": "2021-03-08T10:03:51.270741Z",
     "iopub.status.idle": "2021-03-08T10:03:52.183861Z",
     "shell.execute_reply": "2021-03-08T10:03:52.182983Z"
    },
    "papermill": {
     "duration": 0.938172,
     "end_time": "2021-03-08T10:03:52.184031",
     "exception": false,
     "start_time": "2021-03-08T10:03:51.245859",
     "status": "completed"
    },
    "tags": []
   },
   "outputs": [],
   "source": [
    "import numpy as np\n",
    "import pandas as pd\n",
    "\n",
    "import matplotlib.pyplot as plt\n",
    "%matplotlib inline\n",
    "import seaborn as sns\n",
    "\n",
    "import warnings\n",
    "warnings.filterwarnings(\"ignore\")\n",
    "\n",
    "plt.style.use('fivethirtyeight')\n",
    "sns.set_style('darkgrid')"
   ]
  },
  {
   "cell_type": "code",
   "execution_count": 3,
   "metadata": {
    "execution": {
     "iopub.execute_input": "2021-03-08T10:03:52.235212Z",
     "iopub.status.busy": "2021-03-08T10:03:52.234467Z",
     "iopub.status.idle": "2021-03-08T10:03:59.167104Z",
     "shell.execute_reply": "2021-03-08T10:03:59.166401Z"
    },
    "papermill": {
     "duration": 6.960115,
     "end_time": "2021-03-08T10:03:59.167281",
     "exception": false,
     "start_time": "2021-03-08T10:03:52.207166",
     "status": "completed"
    },
    "tags": []
   },
   "outputs": [],
   "source": [
    "from sklearn.linear_model import LogisticRegression\n",
    "from sklearn.model_selection import train_test_split\n",
    "from sklearn.metrics import classification_report\n",
    "from sklearn.preprocessing import LabelEncoder\n",
    "from sklearn.feature_extraction.text import CountVectorizer\n",
    "from tensorflow.keras.preprocessing.text import Tokenizer\n",
    "from tensorflow.keras.preprocessing.sequence import pad_sequences\n",
    "from tensorflow.keras.models import Sequential\n",
    "from tensorflow.keras.layers import Dense, GlobalMaxPooling1D, LSTM, Bidirectional, Embedding, Dropout"
   ]
  },
  {
   "cell_type": "code",
   "execution_count": 4,
   "metadata": {
    "execution": {
     "iopub.execute_input": "2021-03-08T10:03:59.218731Z",
     "iopub.status.busy": "2021-03-08T10:03:59.218009Z",
     "iopub.status.idle": "2021-03-08T10:04:00.527629Z",
     "shell.execute_reply": "2021-03-08T10:04:00.526988Z"
    },
    "papermill": {
     "duration": 1.337691,
     "end_time": "2021-03-08T10:04:00.527803",
     "exception": false,
     "start_time": "2021-03-08T10:03:59.190112",
     "status": "completed"
    },
    "tags": []
   },
   "outputs": [],
   "source": [
    "df = pd.read_csv(\"/kaggle/input/200000-jeopardy-questions/JEOPARDY_CSV.csv\")\n",
    "df = df[df[' Value'] != 'None']"
   ]
  },
  {
   "cell_type": "code",
   "execution_count": 5,
   "metadata": {
    "execution": {
     "iopub.execute_input": "2021-03-08T10:04:00.582845Z",
     "iopub.status.busy": "2021-03-08T10:04:00.582106Z",
     "iopub.status.idle": "2021-03-08T10:04:00.611481Z",
     "shell.execute_reply": "2021-03-08T10:04:00.610930Z"
    },
    "papermill": {
     "duration": 0.062227,
     "end_time": "2021-03-08T10:04:00.611625",
     "exception": false,
     "start_time": "2021-03-08T10:04:00.549398",
     "status": "completed"
    },
    "tags": []
   },
   "outputs": [
    {
     "data": {
      "text/html": [
       "<div>\n",
       "<style scoped>\n",
       "    .dataframe tbody tr th:only-of-type {\n",
       "        vertical-align: middle;\n",
       "    }\n",
       "\n",
       "    .dataframe tbody tr th {\n",
       "        vertical-align: top;\n",
       "    }\n",
       "\n",
       "    .dataframe thead th {\n",
       "        text-align: right;\n",
       "    }\n",
       "</style>\n",
       "<table border=\"1\" class=\"dataframe\">\n",
       "  <thead>\n",
       "    <tr style=\"text-align: right;\">\n",
       "      <th></th>\n",
       "      <th>Show Number</th>\n",
       "      <th>Air Date</th>\n",
       "      <th>Round</th>\n",
       "      <th>Category</th>\n",
       "      <th>Value</th>\n",
       "      <th>Question</th>\n",
       "      <th>Answer</th>\n",
       "    </tr>\n",
       "  </thead>\n",
       "  <tbody>\n",
       "    <tr>\n",
       "      <th>0</th>\n",
       "      <td>4680</td>\n",
       "      <td>2004-12-31</td>\n",
       "      <td>Jeopardy!</td>\n",
       "      <td>HISTORY</td>\n",
       "      <td>$200</td>\n",
       "      <td>For the last 8 years of his life, Galileo was ...</td>\n",
       "      <td>Copernicus</td>\n",
       "    </tr>\n",
       "    <tr>\n",
       "      <th>1</th>\n",
       "      <td>4680</td>\n",
       "      <td>2004-12-31</td>\n",
       "      <td>Jeopardy!</td>\n",
       "      <td>ESPN's TOP 10 ALL-TIME ATHLETES</td>\n",
       "      <td>$200</td>\n",
       "      <td>No. 2: 1912 Olympian; football star at Carlisl...</td>\n",
       "      <td>Jim Thorpe</td>\n",
       "    </tr>\n",
       "    <tr>\n",
       "      <th>2</th>\n",
       "      <td>4680</td>\n",
       "      <td>2004-12-31</td>\n",
       "      <td>Jeopardy!</td>\n",
       "      <td>EVERYBODY TALKS ABOUT IT...</td>\n",
       "      <td>$200</td>\n",
       "      <td>The city of Yuma in this state has a record av...</td>\n",
       "      <td>Arizona</td>\n",
       "    </tr>\n",
       "  </tbody>\n",
       "</table>\n",
       "</div>"
      ],
      "text/plain": [
       "   Show Number    Air Date      Round                         Category  Value  \\\n",
       "0         4680  2004-12-31  Jeopardy!                          HISTORY   $200   \n",
       "1         4680  2004-12-31  Jeopardy!  ESPN's TOP 10 ALL-TIME ATHLETES   $200   \n",
       "2         4680  2004-12-31  Jeopardy!      EVERYBODY TALKS ABOUT IT...   $200   \n",
       "\n",
       "                                            Question      Answer  \n",
       "0  For the last 8 years of his life, Galileo was ...  Copernicus  \n",
       "1  No. 2: 1912 Olympian; football star at Carlisl...  Jim Thorpe  \n",
       "2  The city of Yuma in this state has a record av...     Arizona  "
      ]
     },
     "metadata": {},
     "output_type": "display_data"
    },
    {
     "data": {
      "text/html": [
       "<div>\n",
       "<style scoped>\n",
       "    .dataframe tbody tr th:only-of-type {\n",
       "        vertical-align: middle;\n",
       "    }\n",
       "\n",
       "    .dataframe tbody tr th {\n",
       "        vertical-align: top;\n",
       "    }\n",
       "\n",
       "    .dataframe thead th {\n",
       "        text-align: right;\n",
       "    }\n",
       "</style>\n",
       "<table border=\"1\" class=\"dataframe\">\n",
       "  <thead>\n",
       "    <tr style=\"text-align: right;\">\n",
       "      <th></th>\n",
       "      <th>Show Number</th>\n",
       "      <th>Air Date</th>\n",
       "      <th>Round</th>\n",
       "      <th>Category</th>\n",
       "      <th>Value</th>\n",
       "      <th>Question</th>\n",
       "      <th>Answer</th>\n",
       "    </tr>\n",
       "  </thead>\n",
       "  <tbody>\n",
       "    <tr>\n",
       "      <th>216926</th>\n",
       "      <td>4999</td>\n",
       "      <td>2006-05-11</td>\n",
       "      <td>Double Jeopardy!</td>\n",
       "      <td>\"T\" BIRDS</td>\n",
       "      <td>$2000</td>\n",
       "      <td>In North America this term is properly applied...</td>\n",
       "      <td>a titmouse</td>\n",
       "    </tr>\n",
       "    <tr>\n",
       "      <th>216927</th>\n",
       "      <td>4999</td>\n",
       "      <td>2006-05-11</td>\n",
       "      <td>Double Jeopardy!</td>\n",
       "      <td>AUTHORS IN THEIR YOUTH</td>\n",
       "      <td>$2000</td>\n",
       "      <td>In Penny Lane, where this \"Hellraiser\" grew up...</td>\n",
       "      <td>Clive Barker</td>\n",
       "    </tr>\n",
       "    <tr>\n",
       "      <th>216928</th>\n",
       "      <td>4999</td>\n",
       "      <td>2006-05-11</td>\n",
       "      <td>Double Jeopardy!</td>\n",
       "      <td>QUOTATIONS</td>\n",
       "      <td>$2000</td>\n",
       "      <td>From Ft. Sill, Okla. he made the plea, Arizona...</td>\n",
       "      <td>Geronimo</td>\n",
       "    </tr>\n",
       "  </tbody>\n",
       "</table>\n",
       "</div>"
      ],
      "text/plain": [
       "        Show Number    Air Date             Round                Category  \\\n",
       "216926         4999  2006-05-11  Double Jeopardy!               \"T\" BIRDS   \n",
       "216927         4999  2006-05-11  Double Jeopardy!  AUTHORS IN THEIR YOUTH   \n",
       "216928         4999  2006-05-11  Double Jeopardy!              QUOTATIONS   \n",
       "\n",
       "        Value                                           Question        Answer  \n",
       "216926  $2000  In North America this term is properly applied...    a titmouse  \n",
       "216927  $2000  In Penny Lane, where this \"Hellraiser\" grew up...  Clive Barker  \n",
       "216928  $2000  From Ft. Sill, Okla. he made the plea, Arizona...      Geronimo  "
      ]
     },
     "metadata": {},
     "output_type": "display_data"
    }
   ],
   "source": [
    "display(df.head(3))\n",
    "display(df.tail(3))"
   ]
  },
  {
   "cell_type": "code",
   "execution_count": 6,
   "metadata": {
    "execution": {
     "iopub.execute_input": "2021-03-08T10:04:00.794871Z",
     "iopub.status.busy": "2021-03-08T10:04:00.794105Z",
     "iopub.status.idle": "2021-03-08T10:04:00.803323Z",
     "shell.execute_reply": "2021-03-08T10:04:00.803867Z"
    },
    "papermill": {
     "duration": 0.169576,
     "end_time": "2021-03-08T10:04:00.804054",
     "exception": false,
     "start_time": "2021-03-08T10:04:00.634478",
     "status": "completed"
    },
    "tags": []
   },
   "outputs": [
    {
     "name": "stdout",
     "output_type": "stream",
     "text": [
      "Dataset has 213296 rows \n",
      "And 7 columns\n",
      "\n",
      "Features :\n",
      " ['Show Number', ' Air Date', ' Round', ' Category', ' Value', ' Question', ' Answer']\n",
      "\n",
      "Missing Values : 2\n"
     ]
    }
   ],
   "source": [
    "print(\"Dataset has \" + str(df.shape[0]) + \" rows \\nAnd \" + str(df.shape[1]) + \" columns\")\n",
    "print(\"\\nFeatures :\\n\", df.columns.tolist())\n",
    "print(\"\\nMissing Values :\", df.isnull().values.sum())"
   ]
  },
  {
   "cell_type": "code",
   "execution_count": 7,
   "metadata": {
    "execution": {
     "iopub.execute_input": "2021-03-08T10:04:00.989380Z",
     "iopub.status.busy": "2021-03-08T10:04:00.988654Z",
     "iopub.status.idle": "2021-03-08T10:04:01.011070Z",
     "shell.execute_reply": "2021-03-08T10:04:01.010472Z"
    },
    "papermill": {
     "duration": 0.183392,
     "end_time": "2021-03-08T10:04:01.011237",
     "exception": false,
     "start_time": "2021-03-08T10:04:00.827845",
     "status": "completed"
    },
    "tags": []
   },
   "outputs": [
    {
     "name": "stdout",
     "output_type": "stream",
     "text": [
      "<class 'pandas.core.frame.DataFrame'>\n",
      "Int64Index: 213296 entries, 0 to 216928\n",
      "Data columns (total 7 columns):\n",
      " #   Column       Non-Null Count   Dtype \n",
      "---  ------       --------------   ----- \n",
      " 0   Show Number  213296 non-null  int64 \n",
      " 1    Air Date    213296 non-null  object\n",
      " 2    Round       213296 non-null  object\n",
      " 3    Category    213296 non-null  object\n",
      " 4    Value       213296 non-null  object\n",
      " 5    Question    213296 non-null  object\n",
      " 6    Answer      213294 non-null  object\n",
      "dtypes: int64(1), object(6)\n",
      "memory usage: 13.0+ MB\n"
     ]
    }
   ],
   "source": [
    "df.info()"
   ]
  },
  {
   "cell_type": "code",
   "execution_count": 8,
   "metadata": {
    "execution": {
     "iopub.execute_input": "2021-03-08T10:04:01.205705Z",
     "iopub.status.busy": "2021-03-08T10:04:01.204873Z",
     "iopub.status.idle": "2021-03-08T10:04:01.214951Z",
     "shell.execute_reply": "2021-03-08T10:04:01.214371Z"
    },
    "papermill": {
     "duration": 0.180193,
     "end_time": "2021-03-08T10:04:01.215193",
     "exception": false,
     "start_time": "2021-03-08T10:04:01.035000",
     "status": "completed"
    },
    "tags": []
   },
   "outputs": [
    {
     "data": {
      "text/plain": [
       "Show Number    0\n",
       " Air Date      0\n",
       " Round         0\n",
       " Category      0\n",
       " Value         0\n",
       " Question      0\n",
       " Answer        2\n",
       "dtype: int64"
      ]
     },
     "execution_count": 8,
     "metadata": {},
     "output_type": "execute_result"
    }
   ],
   "source": [
    "df.isnull().sum()"
   ]
  },
  {
   "cell_type": "markdown",
   "metadata": {
    "papermill": {
     "duration": 0.024339,
     "end_time": "2021-03-08T10:04:01.264290",
     "exception": false,
     "start_time": "2021-03-08T10:04:01.239951",
     "status": "completed"
    },
    "tags": []
   },
   "source": [
    "## Answer"
   ]
  },
  {
   "cell_type": "code",
   "execution_count": 9,
   "metadata": {
    "execution": {
     "iopub.execute_input": "2021-03-08T10:04:01.390153Z",
     "iopub.status.busy": "2021-03-08T10:04:01.389225Z",
     "iopub.status.idle": "2021-03-08T10:04:01.461517Z",
     "shell.execute_reply": "2021-03-08T10:04:01.460949Z"
    },
    "papermill": {
     "duration": 0.172204,
     "end_time": "2021-03-08T10:04:01.461684",
     "exception": false,
     "start_time": "2021-03-08T10:04:01.289480",
     "status": "completed"
    },
    "tags": []
   },
   "outputs": [
    {
     "data": {
      "text/html": [
       "<div>\n",
       "<style scoped>\n",
       "    .dataframe tbody tr th:only-of-type {\n",
       "        vertical-align: middle;\n",
       "    }\n",
       "\n",
       "    .dataframe tbody tr th {\n",
       "        vertical-align: top;\n",
       "    }\n",
       "\n",
       "    .dataframe thead th {\n",
       "        text-align: right;\n",
       "    }\n",
       "</style>\n",
       "<table border=\"1\" class=\"dataframe\">\n",
       "  <thead>\n",
       "    <tr style=\"text-align: right;\">\n",
       "      <th></th>\n",
       "      <th>Answer</th>\n",
       "    </tr>\n",
       "  </thead>\n",
       "  <tbody>\n",
       "    <tr>\n",
       "      <th>China</th>\n",
       "      <td>212</td>\n",
       "    </tr>\n",
       "    <tr>\n",
       "      <th>Australia</th>\n",
       "      <td>211</td>\n",
       "    </tr>\n",
       "    <tr>\n",
       "      <th>Japan</th>\n",
       "      <td>193</td>\n",
       "    </tr>\n",
       "    <tr>\n",
       "      <th>France</th>\n",
       "      <td>191</td>\n",
       "    </tr>\n",
       "    <tr>\n",
       "      <th>Chicago</th>\n",
       "      <td>189</td>\n",
       "    </tr>\n",
       "    <tr>\n",
       "      <th>...</th>\n",
       "      <td>...</td>\n",
       "    </tr>\n",
       "    <tr>\n",
       "      <th>Anna Livia Plurabelle</th>\n",
       "      <td>1</td>\n",
       "    </tr>\n",
       "    <tr>\n",
       "      <th>Soho</th>\n",
       "      <td>1</td>\n",
       "    </tr>\n",
       "    <tr>\n",
       "      <th>the Epstein-Barr virus</th>\n",
       "      <td>1</td>\n",
       "    </tr>\n",
       "    <tr>\n",
       "      <th>the Second Vatican Council (Vatican II)</th>\n",
       "      <td>1</td>\n",
       "    </tr>\n",
       "    <tr>\n",
       "      <th>(Vivaldi's) The Four Seasons</th>\n",
       "      <td>1</td>\n",
       "    </tr>\n",
       "  </tbody>\n",
       "</table>\n",
       "<p>87161 rows × 1 columns</p>\n",
       "</div>"
      ],
      "text/plain": [
       "                                          Answer\n",
       "China                                        212\n",
       "Australia                                    211\n",
       "Japan                                        193\n",
       "France                                       191\n",
       "Chicago                                      189\n",
       "...                                          ...\n",
       "Anna Livia Plurabelle                          1\n",
       "Soho                                           1\n",
       "the Epstein-Barr virus                         1\n",
       "the Second Vatican Council (Vatican II)        1\n",
       "(Vivaldi's) The Four Seasons                   1\n",
       "\n",
       "[87161 rows x 1 columns]"
      ]
     },
     "execution_count": 9,
     "metadata": {},
     "output_type": "execute_result"
    }
   ],
   "source": [
    "df[' Answer'].value_counts().to_frame()"
   ]
  },
  {
   "cell_type": "code",
   "execution_count": 10,
   "metadata": {
    "execution": {
     "iopub.execute_input": "2021-03-08T10:04:01.606371Z",
     "iopub.status.busy": "2021-03-08T10:04:01.605636Z",
     "iopub.status.idle": "2021-03-08T10:04:01.619506Z",
     "shell.execute_reply": "2021-03-08T10:04:01.618877Z"
    },
    "papermill": {
     "duration": 0.133013,
     "end_time": "2021-03-08T10:04:01.619658",
     "exception": false,
     "start_time": "2021-03-08T10:04:01.486645",
     "status": "completed"
    },
    "tags": []
   },
   "outputs": [],
   "source": [
    "df[' Answer'] = df[' Answer'].fillna(df[' Answer'].mode()[0])"
   ]
  },
  {
   "cell_type": "markdown",
   "metadata": {
    "papermill": {
     "duration": 0.02465,
     "end_time": "2021-03-08T10:04:01.669324",
     "exception": false,
     "start_time": "2021-03-08T10:04:01.644674",
     "status": "completed"
    },
    "tags": []
   },
   "source": [
    "## Air Date"
   ]
  },
  {
   "cell_type": "code",
   "execution_count": 11,
   "metadata": {
    "execution": {
     "iopub.execute_input": "2021-03-08T10:04:01.724083Z",
     "iopub.status.busy": "2021-03-08T10:04:01.723002Z",
     "iopub.status.idle": "2021-03-08T10:04:01.791146Z",
     "shell.execute_reply": "2021-03-08T10:04:01.791665Z"
    },
    "papermill": {
     "duration": 0.097543,
     "end_time": "2021-03-08T10:04:01.791858",
     "exception": false,
     "start_time": "2021-03-08T10:04:01.694315",
     "status": "completed"
    },
    "tags": []
   },
   "outputs": [],
   "source": [
    "df[' Air Date'] = pd.to_datetime(df[' Air Date'])"
   ]
  },
  {
   "cell_type": "markdown",
   "metadata": {
    "papermill": {
     "duration": 0.027255,
     "end_time": "2021-03-08T10:04:01.844097",
     "exception": false,
     "start_time": "2021-03-08T10:04:01.816842",
     "status": "completed"
    },
    "tags": []
   },
   "source": [
    "## Round"
   ]
  },
  {
   "cell_type": "code",
   "execution_count": 12,
   "metadata": {
    "execution": {
     "iopub.execute_input": "2021-03-08T10:04:01.899224Z",
     "iopub.status.busy": "2021-03-08T10:04:01.898180Z",
     "iopub.status.idle": "2021-03-08T10:04:01.960069Z",
     "shell.execute_reply": "2021-03-08T10:04:01.959331Z"
    },
    "papermill": {
     "duration": 0.091083,
     "end_time": "2021-03-08T10:04:01.960305",
     "exception": false,
     "start_time": "2021-03-08T10:04:01.869222",
     "status": "completed"
    },
    "tags": []
   },
   "outputs": [
    {
     "data": {
      "text/html": [
       "<div>\n",
       "<style scoped>\n",
       "    .dataframe tbody tr th:only-of-type {\n",
       "        vertical-align: middle;\n",
       "    }\n",
       "\n",
       "    .dataframe tbody tr th {\n",
       "        vertical-align: top;\n",
       "    }\n",
       "\n",
       "    .dataframe thead th {\n",
       "        text-align: right;\n",
       "    }\n",
       "</style>\n",
       "<table border=\"1\" class=\"dataframe\">\n",
       "  <thead>\n",
       "    <tr style=\"text-align: right;\">\n",
       "      <th></th>\n",
       "      <th>Round</th>\n",
       "    </tr>\n",
       "  </thead>\n",
       "  <tbody>\n",
       "    <tr>\n",
       "      <th>Jeopardy!</th>\n",
       "      <td>107384</td>\n",
       "    </tr>\n",
       "    <tr>\n",
       "      <th>Double Jeopardy!</th>\n",
       "      <td>105912</td>\n",
       "    </tr>\n",
       "  </tbody>\n",
       "</table>\n",
       "</div>"
      ],
      "text/plain": [
       "                   Round\n",
       "Jeopardy!         107384\n",
       "Double Jeopardy!  105912"
      ]
     },
     "execution_count": 12,
     "metadata": {},
     "output_type": "execute_result"
    }
   ],
   "source": [
    "df[' Round'].value_counts().to_frame()"
   ]
  },
  {
   "cell_type": "markdown",
   "metadata": {
    "papermill": {
     "duration": 0.026683,
     "end_time": "2021-03-08T10:04:02.013453",
     "exception": false,
     "start_time": "2021-03-08T10:04:01.986770",
     "status": "completed"
    },
    "tags": []
   },
   "source": [
    "## Category"
   ]
  },
  {
   "cell_type": "code",
   "execution_count": 13,
   "metadata": {
    "execution": {
     "iopub.execute_input": "2021-03-08T10:04:02.144411Z",
     "iopub.status.busy": "2021-03-08T10:04:02.141489Z",
     "iopub.status.idle": "2021-03-08T10:04:02.164843Z",
     "shell.execute_reply": "2021-03-08T10:04:02.165437Z"
    },
    "papermill": {
     "duration": 0.125937,
     "end_time": "2021-03-08T10:04:02.165644",
     "exception": false,
     "start_time": "2021-03-08T10:04:02.039707",
     "status": "completed"
    },
    "tags": []
   },
   "outputs": [
    {
     "data": {
      "text/html": [
       "<div>\n",
       "<style scoped>\n",
       "    .dataframe tbody tr th:only-of-type {\n",
       "        vertical-align: middle;\n",
       "    }\n",
       "\n",
       "    .dataframe tbody tr th {\n",
       "        vertical-align: top;\n",
       "    }\n",
       "\n",
       "    .dataframe thead th {\n",
       "        text-align: right;\n",
       "    }\n",
       "</style>\n",
       "<table border=\"1\" class=\"dataframe\">\n",
       "  <thead>\n",
       "    <tr style=\"text-align: right;\">\n",
       "      <th></th>\n",
       "      <th>Category</th>\n",
       "    </tr>\n",
       "  </thead>\n",
       "  <tbody>\n",
       "    <tr>\n",
       "      <th>BEFORE &amp; AFTER</th>\n",
       "      <td>547</td>\n",
       "    </tr>\n",
       "    <tr>\n",
       "      <th>SCIENCE</th>\n",
       "      <td>513</td>\n",
       "    </tr>\n",
       "    <tr>\n",
       "      <th>LITERATURE</th>\n",
       "      <td>486</td>\n",
       "    </tr>\n",
       "    <tr>\n",
       "      <th>AMERICAN HISTORY</th>\n",
       "      <td>401</td>\n",
       "    </tr>\n",
       "    <tr>\n",
       "      <th>POTPOURRI</th>\n",
       "      <td>401</td>\n",
       "    </tr>\n",
       "    <tr>\n",
       "      <th>...</th>\n",
       "      <td>...</td>\n",
       "    </tr>\n",
       "    <tr>\n",
       "      <th>GOING TO THE LOO-VRE</th>\n",
       "      <td>1</td>\n",
       "    </tr>\n",
       "    <tr>\n",
       "      <th>9-LETTER POTPOURRI</th>\n",
       "      <td>1</td>\n",
       "    </tr>\n",
       "    <tr>\n",
       "      <th>I'M MORE THAN JUST A SECRETARY</th>\n",
       "      <td>1</td>\n",
       "    </tr>\n",
       "    <tr>\n",
       "      <th>19th CENTURY LIFE</th>\n",
       "      <td>1</td>\n",
       "    </tr>\n",
       "    <tr>\n",
       "      <th>UP YOUR \"ALLEY\"</th>\n",
       "      <td>1</td>\n",
       "    </tr>\n",
       "  </tbody>\n",
       "</table>\n",
       "<p>26951 rows × 1 columns</p>\n",
       "</div>"
      ],
      "text/plain": [
       "                                 Category\n",
       "BEFORE & AFTER                        547\n",
       "SCIENCE                               513\n",
       "LITERATURE                            486\n",
       "AMERICAN HISTORY                      401\n",
       "POTPOURRI                             401\n",
       "...                                   ...\n",
       "GOING TO THE LOO-VRE                    1\n",
       "9-LETTER POTPOURRI                      1\n",
       "I'M MORE THAN JUST A SECRETARY          1\n",
       "19th CENTURY LIFE                       1\n",
       "UP YOUR \"ALLEY\"                         1\n",
       "\n",
       "[26951 rows x 1 columns]"
      ]
     },
     "execution_count": 13,
     "metadata": {},
     "output_type": "execute_result"
    }
   ],
   "source": [
    "df[' Category'].value_counts().to_frame()"
   ]
  },
  {
   "cell_type": "markdown",
   "metadata": {
    "papermill": {
     "duration": 0.026309,
     "end_time": "2021-03-08T10:04:02.221883",
     "exception": false,
     "start_time": "2021-03-08T10:04:02.195574",
     "status": "completed"
    },
    "tags": []
   },
   "source": [
    "## Answer"
   ]
  },
  {
   "cell_type": "code",
   "execution_count": 14,
   "metadata": {
    "execution": {
     "iopub.execute_input": "2021-03-08T10:04:02.343139Z",
     "iopub.status.busy": "2021-03-08T10:04:02.342469Z",
     "iopub.status.idle": "2021-03-08T10:04:02.413387Z",
     "shell.execute_reply": "2021-03-08T10:04:02.412823Z"
    },
    "papermill": {
     "duration": 0.165344,
     "end_time": "2021-03-08T10:04:02.413534",
     "exception": false,
     "start_time": "2021-03-08T10:04:02.248190",
     "status": "completed"
    },
    "tags": []
   },
   "outputs": [
    {
     "data": {
      "text/html": [
       "<div>\n",
       "<style scoped>\n",
       "    .dataframe tbody tr th:only-of-type {\n",
       "        vertical-align: middle;\n",
       "    }\n",
       "\n",
       "    .dataframe tbody tr th {\n",
       "        vertical-align: top;\n",
       "    }\n",
       "\n",
       "    .dataframe thead th {\n",
       "        text-align: right;\n",
       "    }\n",
       "</style>\n",
       "<table border=\"1\" class=\"dataframe\">\n",
       "  <thead>\n",
       "    <tr style=\"text-align: right;\">\n",
       "      <th></th>\n",
       "      <th>Answer</th>\n",
       "    </tr>\n",
       "  </thead>\n",
       "  <tbody>\n",
       "    <tr>\n",
       "      <th>China</th>\n",
       "      <td>214</td>\n",
       "    </tr>\n",
       "    <tr>\n",
       "      <th>Australia</th>\n",
       "      <td>211</td>\n",
       "    </tr>\n",
       "    <tr>\n",
       "      <th>Japan</th>\n",
       "      <td>193</td>\n",
       "    </tr>\n",
       "    <tr>\n",
       "      <th>France</th>\n",
       "      <td>191</td>\n",
       "    </tr>\n",
       "    <tr>\n",
       "      <th>Chicago</th>\n",
       "      <td>189</td>\n",
       "    </tr>\n",
       "    <tr>\n",
       "      <th>...</th>\n",
       "      <td>...</td>\n",
       "    </tr>\n",
       "    <tr>\n",
       "      <th>Anna Livia Plurabelle</th>\n",
       "      <td>1</td>\n",
       "    </tr>\n",
       "    <tr>\n",
       "      <th>Soho</th>\n",
       "      <td>1</td>\n",
       "    </tr>\n",
       "    <tr>\n",
       "      <th>the Epstein-Barr virus</th>\n",
       "      <td>1</td>\n",
       "    </tr>\n",
       "    <tr>\n",
       "      <th>the Second Vatican Council (Vatican II)</th>\n",
       "      <td>1</td>\n",
       "    </tr>\n",
       "    <tr>\n",
       "      <th>(Vivaldi's) The Four Seasons</th>\n",
       "      <td>1</td>\n",
       "    </tr>\n",
       "  </tbody>\n",
       "</table>\n",
       "<p>87161 rows × 1 columns</p>\n",
       "</div>"
      ],
      "text/plain": [
       "                                          Answer\n",
       "China                                        214\n",
       "Australia                                    211\n",
       "Japan                                        193\n",
       "France                                       191\n",
       "Chicago                                      189\n",
       "...                                          ...\n",
       "Anna Livia Plurabelle                          1\n",
       "Soho                                           1\n",
       "the Epstein-Barr virus                         1\n",
       "the Second Vatican Council (Vatican II)        1\n",
       "(Vivaldi's) The Four Seasons                   1\n",
       "\n",
       "[87161 rows x 1 columns]"
      ]
     },
     "execution_count": 14,
     "metadata": {},
     "output_type": "execute_result"
    }
   ],
   "source": [
    "df[' Answer'].value_counts().to_frame()"
   ]
  },
  {
   "cell_type": "markdown",
   "metadata": {
    "papermill": {
     "duration": 0.027079,
     "end_time": "2021-03-08T10:04:02.467976",
     "exception": false,
     "start_time": "2021-03-08T10:04:02.440897",
     "status": "completed"
    },
    "tags": []
   },
   "source": [
    "## Value"
   ]
  },
  {
   "cell_type": "code",
   "execution_count": 15,
   "metadata": {
    "execution": {
     "iopub.execute_input": "2021-03-08T10:04:02.529840Z",
     "iopub.status.busy": "2021-03-08T10:04:02.529140Z",
     "iopub.status.idle": "2021-03-08T10:04:02.765908Z",
     "shell.execute_reply": "2021-03-08T10:04:02.765093Z"
    },
    "papermill": {
     "duration": 0.270305,
     "end_time": "2021-03-08T10:04:02.766078",
     "exception": false,
     "start_time": "2021-03-08T10:04:02.495773",
     "status": "completed"
    },
    "tags": []
   },
   "outputs": [],
   "source": [
    "df['ValueNum'] = df[' Value'].apply(\n",
    "    lambda value: int(value.replace(',', '').replace('$', ''))\n",
    ")"
   ]
  },
  {
   "cell_type": "code",
   "execution_count": 16,
   "metadata": {
    "execution": {
     "iopub.execute_input": "2021-03-08T10:04:02.836462Z",
     "iopub.status.busy": "2021-03-08T10:04:02.835694Z",
     "iopub.status.idle": "2021-03-08T10:04:05.880182Z",
     "shell.execute_reply": "2021-03-08T10:04:05.880712Z"
    },
    "papermill": {
     "duration": 3.087002,
     "end_time": "2021-03-08T10:04:05.880907",
     "exception": false,
     "start_time": "2021-03-08T10:04:02.793905",
     "status": "completed"
    },
    "tags": []
   },
   "outputs": [],
   "source": [
    "def binning(value):\n",
    "    if value < 1000:\n",
    "        return np.round(value, -2)\n",
    "    elif value < 10000:\n",
    "        return np.round(value, -3)\n",
    "    else:\n",
    "        return np.round(value, -4)\n",
    "\n",
    "df['ValueBins'] = df['ValueNum'].apply(binning)"
   ]
  },
  {
   "cell_type": "code",
   "execution_count": 17,
   "metadata": {
    "execution": {
     "iopub.execute_input": "2021-03-08T10:04:05.955505Z",
     "iopub.status.busy": "2021-03-08T10:04:05.954792Z",
     "iopub.status.idle": "2021-03-08T10:04:05.968679Z",
     "shell.execute_reply": "2021-03-08T10:04:05.968079Z"
    },
    "papermill": {
     "duration": 0.059682,
     "end_time": "2021-03-08T10:04:05.968824",
     "exception": false,
     "start_time": "2021-03-08T10:04:05.909142",
     "status": "completed"
    },
    "tags": []
   },
   "outputs": [
    {
     "name": "stdout",
     "output_type": "stream",
     "text": [
      "Total number of categories: 149\n",
      "Number of categories after binning: 21\n",
      "\n",
      "Binned Categories: [  200   400   600   800  2000  1000  3000  5000   100   300   500  4000\n",
      "  7000   700  8000  6000 10000   900  9000     0 20000]\n"
     ]
    }
   ],
   "source": [
    "print(\"Total number of categories:\", df[' Value'].unique().shape[0])\n",
    "print(\"Number of categories after binning:\", df['ValueBins'].unique().shape[0])\n",
    "print(\"\\nBinned Categories:\", df['ValueBins'].unique())"
   ]
  },
  {
   "cell_type": "code",
   "execution_count": 18,
   "metadata": {
    "execution": {
     "iopub.execute_input": "2021-03-08T10:04:06.033446Z",
     "iopub.status.busy": "2021-03-08T10:04:06.032384Z",
     "iopub.status.idle": "2021-03-08T10:04:06.058955Z",
     "shell.execute_reply": "2021-03-08T10:04:06.058206Z"
    },
    "papermill": {
     "duration": 0.061794,
     "end_time": "2021-03-08T10:04:06.059102",
     "exception": false,
     "start_time": "2021-03-08T10:04:05.997308",
     "status": "completed"
    },
    "tags": []
   },
   "outputs": [],
   "source": [
    "show_numbers = df['Show Number'].unique()\n",
    "train_shows, test_shows = train_test_split(show_numbers, test_size=0.2, random_state=2019)\n",
    "\n",
    "train_mask = df['Show Number'].isin(train_shows)\n",
    "test_mask = df['Show Number'].isin(test_shows)\n",
    "\n",
    "train_labels = df.loc[train_mask, 'ValueBins']\n",
    "train_questions = df.loc[train_mask, ' Question']\n",
    "test_labels = df.loc[test_mask, 'ValueBins']\n",
    "test_questions = df.loc[test_mask, ' Question']"
   ]
  },
  {
   "cell_type": "markdown",
   "metadata": {
    "papermill": {
     "duration": 0.028503,
     "end_time": "2021-03-08T10:04:06.116560",
     "exception": false,
     "start_time": "2021-03-08T10:04:06.088057",
     "status": "completed"
    },
    "tags": []
   },
   "source": [
    "## Simple Linear Model"
   ]
  },
  {
   "cell_type": "code",
   "execution_count": 19,
   "metadata": {
    "execution": {
     "iopub.execute_input": "2021-03-08T10:04:06.192877Z",
     "iopub.status.busy": "2021-03-08T10:04:06.187506Z",
     "iopub.status.idle": "2021-03-08T10:04:11.194590Z",
     "shell.execute_reply": "2021-03-08T10:04:11.195516Z"
    },
    "papermill": {
     "duration": 5.050013,
     "end_time": "2021-03-08T10:04:11.195833",
     "exception": false,
     "start_time": "2021-03-08T10:04:06.145820",
     "status": "completed"
    },
    "tags": []
   },
   "outputs": [
    {
     "name": "stdout",
     "output_type": "stream",
     "text": [
      "CPU times: user 4.93 s, sys: 70.2 ms, total: 5 s\n",
      "Wall time: 5.01 s\n"
     ]
    },
    {
     "data": {
      "text/plain": [
       "CountVectorizer(max_features=2000, stop_words='english')"
      ]
     },
     "execution_count": 19,
     "metadata": {},
     "output_type": "execute_result"
    }
   ],
   "source": [
    "%%time\n",
    "bow = CountVectorizer(stop_words='english', max_features=2000)\n",
    "bow.fit(df[' Question'])"
   ]
  },
  {
   "cell_type": "code",
   "execution_count": 20,
   "metadata": {
    "execution": {
     "iopub.execute_input": "2021-03-08T10:04:11.301291Z",
     "iopub.status.busy": "2021-03-08T10:04:11.280054Z",
     "iopub.status.idle": "2021-03-08T10:04:15.946756Z",
     "shell.execute_reply": "2021-03-08T10:04:15.945655Z"
    },
    "papermill": {
     "duration": 4.720814,
     "end_time": "2021-03-08T10:04:15.946929",
     "exception": false,
     "start_time": "2021-03-08T10:04:11.226115",
     "status": "completed"
    },
    "tags": []
   },
   "outputs": [
    {
     "name": "stdout",
     "output_type": "stream",
     "text": [
      "Shape of X_train: (170704, 2000)\n",
      "Shape of X_test: (42592, 2000)\n",
      "Shape of y_train: (170704,)\n",
      "Shape of y_test: (42592,)\n"
     ]
    }
   ],
   "source": [
    "X_train = bow.transform(train_questions)\n",
    "X_test = bow.transform(test_questions)\n",
    "\n",
    "y_train = train_labels\n",
    "y_test = test_labels\n",
    "\n",
    "print(\"Shape of X_train:\", X_train.shape)\n",
    "print(\"Shape of X_test:\", X_test.shape)\n",
    "print(\"Shape of y_train:\", y_train.shape)\n",
    "print(\"Shape of y_test:\", y_test.shape)"
   ]
  },
  {
   "cell_type": "markdown",
   "metadata": {
    "papermill": {
     "duration": 0.028602,
     "end_time": "2021-03-08T10:04:16.004958",
     "exception": false,
     "start_time": "2021-03-08T10:04:15.976356",
     "status": "completed"
    },
    "tags": []
   },
   "source": [
    "###  Logistic Regression"
   ]
  },
  {
   "cell_type": "code",
   "execution_count": 21,
   "metadata": {
    "execution": {
     "iopub.execute_input": "2021-03-08T10:04:16.069670Z",
     "iopub.status.busy": "2021-03-08T10:04:16.068942Z",
     "iopub.status.idle": "2021-03-08T10:05:31.446142Z",
     "shell.execute_reply": "2021-03-08T10:05:31.445380Z"
    },
    "papermill": {
     "duration": 75.412234,
     "end_time": "2021-03-08T10:05:31.446360",
     "exception": false,
     "start_time": "2021-03-08T10:04:16.034126",
     "status": "completed"
    },
    "tags": []
   },
   "outputs": [
    {
     "name": "stdout",
     "output_type": "stream",
     "text": [
      "CPU times: user 1min 15s, sys: 59.3 ms, total: 1min 15s\n",
      "Wall time: 1min 15s\n"
     ]
    },
    {
     "data": {
      "text/plain": [
       "LogisticRegression(max_iter=200, multi_class='multinomial', solver='saga')"
      ]
     },
     "execution_count": 21,
     "metadata": {},
     "output_type": "execute_result"
    }
   ],
   "source": [
    "%%time\n",
    "lr = LogisticRegression(solver='saga', multi_class='multinomial', max_iter=200)\n",
    "lr.fit(X_train, y_train)"
   ]
  },
  {
   "cell_type": "code",
   "execution_count": 22,
   "metadata": {
    "execution": {
     "iopub.execute_input": "2021-03-08T10:05:31.512155Z",
     "iopub.status.busy": "2021-03-08T10:05:31.511486Z",
     "iopub.status.idle": "2021-03-08T10:05:31.595209Z",
     "shell.execute_reply": "2021-03-08T10:05:31.595702Z"
    },
    "papermill": {
     "duration": 0.11928,
     "end_time": "2021-03-08T10:05:31.595886",
     "exception": false,
     "start_time": "2021-03-08T10:05:31.476606",
     "status": "completed"
    },
    "tags": []
   },
   "outputs": [
    {
     "name": "stdout",
     "output_type": "stream",
     "text": [
      "              precision    recall  f1-score   support\n",
      "\n",
      "           0       0.00      0.00      0.00         2\n",
      "         100       0.05      0.00      0.01      1863\n",
      "         200       0.18      0.14      0.15      6132\n",
      "         300       0.06      0.00      0.01      1801\n",
      "         400       0.21      0.57      0.30      8425\n",
      "         500       0.10      0.01      0.02      1827\n",
      "         600       0.11      0.01      0.02      4099\n",
      "         700       0.00      0.00      0.00        41\n",
      "         800       0.15      0.10      0.12      6279\n",
      "         900       0.00      0.00      0.00        28\n",
      "        1000       0.19      0.20      0.20      6720\n",
      "        2000       0.19      0.10      0.13      4938\n",
      "        3000       0.00      0.00      0.00       198\n",
      "        4000       0.00      0.00      0.00       121\n",
      "        5000       0.00      0.00      0.00        61\n",
      "        6000       0.00      0.00      0.00        21\n",
      "        7000       0.00      0.00      0.00         9\n",
      "        8000       0.00      0.00      0.00        11\n",
      "        9000       0.00      0.00      0.00         4\n",
      "       10000       0.00      0.00      0.00        12\n",
      "\n",
      "    accuracy                           0.19     42592\n",
      "   macro avg       0.06      0.06      0.05     42592\n",
      "weighted avg       0.16      0.19      0.15     42592\n",
      "\n"
     ]
    }
   ],
   "source": [
    "y_pred = lr.predict(X_test)\n",
    "\n",
    "print(classification_report(y_test, y_pred))"
   ]
  },
  {
   "cell_type": "markdown",
   "metadata": {
    "papermill": {
     "duration": 0.029767,
     "end_time": "2021-03-08T10:05:31.656093",
     "exception": false,
     "start_time": "2021-03-08T10:05:31.626326",
     "status": "completed"
    },
    "tags": []
   },
   "source": [
    "## Tokenization"
   ]
  },
  {
   "cell_type": "code",
   "execution_count": 23,
   "metadata": {
    "execution": {
     "iopub.execute_input": "2021-03-08T10:05:31.730791Z",
     "iopub.status.busy": "2021-03-08T10:05:31.725623Z",
     "iopub.status.idle": "2021-03-08T10:05:41.593181Z",
     "shell.execute_reply": "2021-03-08T10:05:41.592582Z"
    },
    "papermill": {
     "duration": 9.906924,
     "end_time": "2021-03-08T10:05:41.593372",
     "exception": false,
     "start_time": "2021-03-08T10:05:31.686448",
     "status": "completed"
    },
    "tags": []
   },
   "outputs": [
    {
     "name": "stdout",
     "output_type": "stream",
     "text": [
      "Original text: For the last 8 years of his life, Galileo was under house arrest for espousing this man's theory\n",
      "Converted sequence: [7, 1, 112, 272, 102, 4, 14, 189, 7842, 9, 226, 173, 5422, 7, 41554, 2, 571, 1552]\n"
     ]
    }
   ],
   "source": [
    "tokenizer = Tokenizer(num_words=50000)\n",
    "tokenizer.fit_on_texts(df[' Question'])\n",
    "\n",
    "train_sequence = tokenizer.texts_to_sequences(train_questions)\n",
    "test_sequence = tokenizer.texts_to_sequences(test_questions)\n",
    "\n",
    "print(\"Original text:\", train_questions[0])\n",
    "print(\"Converted sequence:\", train_sequence[0])"
   ]
  },
  {
   "cell_type": "code",
   "execution_count": 24,
   "metadata": {
    "execution": {
     "iopub.execute_input": "2021-03-08T10:05:41.685199Z",
     "iopub.status.busy": "2021-03-08T10:05:41.674833Z",
     "iopub.status.idle": "2021-03-08T10:05:43.535945Z",
     "shell.execute_reply": "2021-03-08T10:05:43.536492Z"
    },
    "papermill": {
     "duration": 1.912112,
     "end_time": "2021-03-08T10:05:43.536679",
     "exception": false,
     "start_time": "2021-03-08T10:05:41.624567",
     "status": "completed"
    },
    "tags": []
   },
   "outputs": [
    {
     "name": "stdout",
     "output_type": "stream",
     "text": [
      "(170704, 50)\n",
      "(42592, 50)\n"
     ]
    }
   ],
   "source": [
    "X_train = pad_sequences(train_sequence, maxlen=50)\n",
    "X_test = pad_sequences(test_sequence, maxlen=50)\n",
    "\n",
    "print(X_train.shape)\n",
    "print(X_test.shape)"
   ]
  },
  {
   "cell_type": "code",
   "execution_count": 25,
   "metadata": {
    "execution": {
     "iopub.execute_input": "2021-03-08T10:05:43.605516Z",
     "iopub.status.busy": "2021-03-08T10:05:43.604775Z",
     "iopub.status.idle": "2021-03-08T10:05:43.622192Z",
     "shell.execute_reply": "2021-03-08T10:05:43.621606Z"
    },
    "papermill": {
     "duration": 0.054476,
     "end_time": "2021-03-08T10:05:43.622378",
     "exception": false,
     "start_time": "2021-03-08T10:05:43.567902",
     "status": "completed"
    },
    "tags": []
   },
   "outputs": [
    {
     "name": "stdout",
     "output_type": "stream",
     "text": [
      "(170704,)\n",
      "(42592,)\n"
     ]
    }
   ],
   "source": [
    "le = LabelEncoder()\n",
    "le.fit(df['ValueBins'])\n",
    "\n",
    "y_train = le.transform(train_labels)\n",
    "y_test = le.transform(test_labels)\n",
    "\n",
    "print(y_train.shape)\n",
    "print(y_test.shape)"
   ]
  },
  {
   "cell_type": "code",
   "execution_count": 26,
   "metadata": {
    "execution": {
     "iopub.execute_input": "2021-03-08T10:05:43.694144Z",
     "iopub.status.busy": "2021-03-08T10:05:43.693475Z",
     "iopub.status.idle": "2021-03-08T10:05:43.695751Z",
     "shell.execute_reply": "2021-03-08T10:05:43.696314Z"
    },
    "papermill": {
     "duration": 0.040543,
     "end_time": "2021-03-08T10:05:43.696491",
     "exception": false,
     "start_time": "2021-03-08T10:05:43.655948",
     "status": "completed"
    },
    "tags": []
   },
   "outputs": [],
   "source": [
    "num_words = tokenizer.num_words\n",
    "output_size = len(le.classes_)"
   ]
  },
  {
   "cell_type": "code",
   "execution_count": 27,
   "metadata": {
    "execution": {
     "iopub.execute_input": "2021-03-08T10:05:43.765509Z",
     "iopub.status.busy": "2021-03-08T10:05:43.764747Z",
     "iopub.status.idle": "2021-03-08T10:05:45.972765Z",
     "shell.execute_reply": "2021-03-08T10:05:45.971485Z"
    },
    "papermill": {
     "duration": 2.243181,
     "end_time": "2021-03-08T10:05:45.972974",
     "exception": false,
     "start_time": "2021-03-08T10:05:43.729793",
     "status": "completed"
    },
    "tags": []
   },
   "outputs": [
    {
     "name": "stdout",
     "output_type": "stream",
     "text": [
      "Model: \"sequential\"\n",
      "_________________________________________________________________\n",
      "Layer (type)                 Output Shape              Param #   \n",
      "=================================================================\n",
      "embedding (Embedding)        (None, 50, 200)           10000000  \n",
      "_________________________________________________________________\n",
      "bidirectional (Bidirectional (None, 50, 300)           421200    \n",
      "_________________________________________________________________\n",
      "global_max_pooling1d (Global (None, 300)               0         \n",
      "_________________________________________________________________\n",
      "dense (Dense)                (None, 300)               90300     \n",
      "_________________________________________________________________\n",
      "dropout (Dropout)            (None, 300)               0         \n",
      "_________________________________________________________________\n",
      "dense_1 (Dense)              (None, 21)                6321      \n",
      "=================================================================\n",
      "Total params: 10,517,821\n",
      "Trainable params: 10,517,821\n",
      "Non-trainable params: 0\n",
      "_________________________________________________________________\n"
     ]
    }
   ],
   "source": [
    "model = Sequential([\n",
    "    Embedding(input_dim=num_words, \n",
    "              output_dim=200, \n",
    "              mask_zero=True, \n",
    "              input_length=50),\n",
    "    Bidirectional(LSTM(150, return_sequences=True)),\n",
    "    GlobalMaxPooling1D(),\n",
    "    Dense(300, activation='relu'),\n",
    "    Dropout(0.5),\n",
    "    Dense(output_size, activation='softmax')\n",
    "    \n",
    "])\n",
    "\n",
    "model.compile('adam', loss='sparse_categorical_crossentropy', metrics=['accuracy'])\n",
    "\n",
    "model.summary()"
   ]
  },
  {
   "cell_type": "code",
   "execution_count": 28,
   "metadata": {
    "execution": {
     "iopub.execute_input": "2021-03-08T10:05:46.043900Z",
     "iopub.status.busy": "2021-03-08T10:05:46.043231Z",
     "iopub.status.idle": "2021-03-08T10:54:51.019933Z",
     "shell.execute_reply": "2021-03-08T10:54:51.019379Z"
    },
    "papermill": {
     "duration": 2945.014429,
     "end_time": "2021-03-08T10:54:51.020109",
     "exception": false,
     "start_time": "2021-03-08T10:05:46.005680",
     "status": "completed"
    },
    "tags": []
   },
   "outputs": [
    {
     "name": "stdout",
     "output_type": "stream",
     "text": [
      "Epoch 1/10\n",
      "151/151 [==============================] - 313s 2s/step - loss: 2.4052 - accuracy: 0.1686 - val_loss: 2.1051 - val_accuracy: 0.2129\n",
      "Epoch 2/10\n",
      "151/151 [==============================] - 288s 2s/step - loss: 2.0919 - accuracy: 0.2117 - val_loss: 2.0938 - val_accuracy: 0.2131\n",
      "Epoch 3/10\n",
      "151/151 [==============================] - 291s 2s/step - loss: 1.9736 - accuracy: 0.2538 - val_loss: 2.1418 - val_accuracy: 0.2077\n",
      "Epoch 4/10\n",
      "151/151 [==============================] - 288s 2s/step - loss: 1.7693 - accuracy: 0.3507 - val_loss: 2.2667 - val_accuracy: 0.1841\n",
      "Epoch 5/10\n",
      "151/151 [==============================] - 291s 2s/step - loss: 1.5210 - accuracy: 0.4638 - val_loss: 2.5437 - val_accuracy: 0.1770\n",
      "Epoch 6/10\n",
      "151/151 [==============================] - 290s 2s/step - loss: 1.2398 - accuracy: 0.5688 - val_loss: 2.9637 - val_accuracy: 0.1664\n",
      "Epoch 7/10\n",
      "151/151 [==============================] - 299s 2s/step - loss: 1.0184 - accuracy: 0.6495 - val_loss: 3.5399 - val_accuracy: 0.1647\n",
      "Epoch 8/10\n",
      "151/151 [==============================] - 295s 2s/step - loss: 0.8459 - accuracy: 0.7089 - val_loss: 4.1666 - val_accuracy: 0.1628\n",
      "Epoch 9/10\n",
      "151/151 [==============================] - 297s 2s/step - loss: 0.6947 - accuracy: 0.7588 - val_loss: 4.8664 - val_accuracy: 0.1637\n",
      "Epoch 10/10\n",
      "151/151 [==============================] - 291s 2s/step - loss: 0.5978 - accuracy: 0.7939 - val_loss: 5.6412 - val_accuracy: 0.1654\n"
     ]
    },
    {
     "data": {
      "text/plain": [
       "<tensorflow.python.keras.callbacks.History at 0x7f32866a7990>"
      ]
     },
     "execution_count": 28,
     "metadata": {},
     "output_type": "execute_result"
    }
   ],
   "source": [
    "model.fit(X_train, y_train, epochs=10, batch_size=1024, validation_split=0.1)"
   ]
  },
  {
   "cell_type": "code",
   "execution_count": 29,
   "metadata": {
    "execution": {
     "iopub.execute_input": "2021-03-08T10:54:52.056505Z",
     "iopub.status.busy": "2021-03-08T10:54:52.055765Z",
     "iopub.status.idle": "2021-03-08T10:55:20.301178Z",
     "shell.execute_reply": "2021-03-08T10:55:20.301722Z"
    },
    "papermill": {
     "duration": 28.790283,
     "end_time": "2021-03-08T10:55:20.301919",
     "exception": false,
     "start_time": "2021-03-08T10:54:51.511636",
     "status": "completed"
    },
    "tags": []
   },
   "outputs": [
    {
     "name": "stdout",
     "output_type": "stream",
     "text": [
      "              precision    recall  f1-score   support\n",
      "\n",
      "           0       0.00      0.00      0.00         2\n",
      "           1       0.07      0.05      0.06      1863\n",
      "           2       0.18      0.18      0.18      6132\n",
      "           3       0.05      0.03      0.03      1801\n",
      "           4       0.21      0.23      0.22      8425\n",
      "           5       0.06      0.05      0.05      1827\n",
      "           6       0.11      0.11      0.11      4099\n",
      "           7       0.00      0.00      0.00        41\n",
      "           8       0.16      0.19      0.17      6279\n",
      "           9       0.00      0.00      0.00        28\n",
      "          10       0.19      0.18      0.19      6720\n",
      "          11       0.17      0.18      0.17      4938\n",
      "          12       0.01      0.01      0.01       198\n",
      "          13       0.00      0.00      0.00       121\n",
      "          14       0.00      0.00      0.00        61\n",
      "          15       0.00      0.00      0.00        21\n",
      "          16       0.00      0.00      0.00         9\n",
      "          17       0.00      0.00      0.00        11\n",
      "          18       0.00      0.00      0.00         4\n",
      "          19       0.00      0.00      0.00        12\n",
      "\n",
      "    accuracy                           0.16     42592\n",
      "   macro avg       0.06      0.06      0.06     42592\n",
      "weighted avg       0.16      0.16      0.16     42592\n",
      "\n"
     ]
    }
   ],
   "source": [
    "y_pred = model.predict(X_test, batch_size=1024).argmax(axis=1)\n",
    "print(classification_report(y_test, y_pred))"
   ]
  }
 ],
 "metadata": {
  "kernelspec": {
   "display_name": "Python 3",
   "language": "python",
   "name": "python3"
  },
  "language_info": {
   "codemirror_mode": {
    "name": "ipython",
    "version": 3
   },
   "file_extension": ".py",
   "mimetype": "text/x-python",
   "name": "python",
   "nbconvert_exporter": "python",
   "pygments_lexer": "ipython3",
   "version": "3.8.3"
  },
  "papermill": {
   "default_parameters": {},
   "duration": 3097.67831,
   "end_time": "2021-03-08T10:55:22.913700",
   "environment_variables": {},
   "exception": null,
   "input_path": "__notebook__.ipynb",
   "output_path": "__notebook__.ipynb",
   "parameters": {},
   "start_time": "2021-03-08T10:03:45.235390",
   "version": "2.2.2"
  }
 },
 "nbformat": 4,
 "nbformat_minor": 4
}
